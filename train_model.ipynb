{
 "cells": [
  {
   "cell_type": "code",
   "execution_count": 1,
   "id": "d9ab72f3-bd30-43d4-9afe-f00b991b14d5",
   "metadata": {
    "execution": {
     "iopub.execute_input": "2025-05-04T14:57:20.184064Z",
     "iopub.status.busy": "2025-05-04T14:57:20.183571Z",
     "iopub.status.idle": "2025-05-04T14:57:22.436645Z",
     "shell.execute_reply": "2025-05-04T14:57:22.436343Z",
     "shell.execute_reply.started": "2025-05-04T14:57:20.184031Z"
    }
   },
   "outputs": [
    {
     "name": "stderr",
     "output_type": "stream",
     "text": [
      "/home/emilmeister/python-venvs/.torch_env/lib/python3.12/site-packages/albumentations/__init__.py:28: UserWarning: A new version of Albumentations is available: '2.0.6' (you have '2.0.5'). Upgrade using: pip install -U albumentations. To disable automatic update checks, set the environment variable NO_ALBUMENTATIONS_UPDATE to 1.\n",
      "  check_for_updates()\n"
     ]
    }
   ],
   "source": [
    "import torch\n",
    "from datasets import load_dataset\n",
    "from dataset import VangoghPhotoDataset\n",
    "import sys\n",
    "from utils import save_checkpoint, load_checkpoint\n",
    "from torch.utils.data import DataLoader\n",
    "import torch.nn as nn\n",
    "import torch.optim as optim\n",
    "import config\n",
    "from tqdm import tqdm\n",
    "from torchvision.utils import save_image\n",
    "from discriminator_model import Discriminator\n",
    "from generator_model import Generator\n",
    "import warnings\n",
    "warnings.filterwarnings('ignore')"
   ]
  },
  {
   "cell_type": "code",
   "execution_count": 2,
   "id": "bca82bb3-28ae-43e0-bf0e-e78259c14e7a",
   "metadata": {
    "execution": {
     "iopub.execute_input": "2025-05-04T14:57:22.437071Z",
     "iopub.status.busy": "2025-05-04T14:57:22.436909Z",
     "iopub.status.idle": "2025-05-04T14:57:26.118066Z",
     "shell.execute_reply": "2025-05-04T14:57:26.117779Z",
     "shell.execute_reply.started": "2025-05-04T14:57:22.437063Z"
    }
   },
   "outputs": [
    {
     "name": "stderr",
     "output_type": "stream",
     "text": [
      "Repo card metadata block was not found. Setting CardData to empty.\n"
     ]
    }
   ],
   "source": [
    "hf_data = load_dataset(\"huggan/vangogh2photo\")"
   ]
  },
  {
   "cell_type": "code",
   "execution_count": 3,
   "id": "51baae2f-b83b-426f-86e3-a351e5798c27",
   "metadata": {
    "execution": {
     "iopub.execute_input": "2025-05-04T14:57:26.118382Z",
     "iopub.status.busy": "2025-05-04T14:57:26.118286Z",
     "iopub.status.idle": "2025-05-04T14:57:26.121204Z",
     "shell.execute_reply": "2025-05-04T14:57:26.121040Z",
     "shell.execute_reply.started": "2025-05-04T14:57:26.118363Z"
    }
   },
   "outputs": [
    {
     "data": {
      "text/plain": [
       "DatasetDict({\n",
       "    train: Dataset({\n",
       "        features: ['imageA', 'imageB'],\n",
       "        num_rows: 6287\n",
       "    })\n",
       "    test: Dataset({\n",
       "        features: ['imageA', 'imageB'],\n",
       "        num_rows: 751\n",
       "    })\n",
       "})"
      ]
     },
     "execution_count": 3,
     "metadata": {},
     "output_type": "execute_result"
    }
   ],
   "source": [
    "hf_data"
   ]
  },
  {
   "cell_type": "code",
   "execution_count": 4,
   "id": "758ae203-d4fe-4114-8465-68f58ed1dcda",
   "metadata": {
    "execution": {
     "iopub.execute_input": "2025-05-04T14:57:26.121511Z",
     "iopub.status.busy": "2025-05-04T14:57:26.121438Z",
     "iopub.status.idle": "2025-05-04T14:57:26.135929Z",
     "shell.execute_reply": "2025-05-04T14:57:26.135400Z",
     "shell.execute_reply.started": "2025-05-04T14:57:26.121505Z"
    }
   },
   "outputs": [],
   "source": [
    "def train_fn(\n",
    "    disc_V, disc_P, gen_P, gen_V, loader, opt_disc, opt_gen, l1, mse, d_scaler, g_scaler\n",
    "):\n",
    "    P_reals = 0\n",
    "    P_fakes = 0\n",
    "    loop = tqdm(loader, leave=True)\n",
    "\n",
    "    for idx, (vangogh, photo) in enumerate(loop):\n",
    "        vangogh = vangogh.to(config.DEVICE)\n",
    "        photo = photo.to(config.DEVICE)\n",
    "\n",
    "        # Train Discriminators P and V\n",
    "        with torch.cuda.amp.autocast():\n",
    "            fake_photo = gen_P(vangogh)\n",
    "            D_P_real = disc_P(photo)\n",
    "            D_P_fake = disc_P(fake_photo.detach())\n",
    "            P_reals += D_P_real.mean().item()\n",
    "            P_fakes += D_P_fake.mean().item()\n",
    "            D_P_real_loss = mse(D_P_real, torch.ones_like(D_P_real))\n",
    "            D_P_fake_loss = mse(D_P_fake, torch.zeros_like(D_P_fake))\n",
    "            D_P_loss = D_P_real_loss + D_P_fake_loss\n",
    "\n",
    "            fake_vangogh = gen_V(photo)\n",
    "            D_V_real = disc_V(vangogh)\n",
    "            D_V_fake = disc_V(fake_vangogh.detach())\n",
    "            D_V_real_loss = mse(D_V_real, torch.ones_like(D_V_real))\n",
    "            D_V_fake_loss = mse(D_V_fake, torch.zeros_like(D_V_fake))\n",
    "            D_V_loss = D_V_real_loss + D_V_fake_loss\n",
    "\n",
    "            # SUMM\n",
    "            D_loss = (D_P_loss + D_V_loss) / 2\n",
    "\n",
    "        opt_disc.zero_grad()\n",
    "        d_scaler.scale(D_loss).backward()\n",
    "        d_scaler.step(opt_disc)\n",
    "        d_scaler.update()\n",
    "\n",
    "        # Train Generators P and V\n",
    "        with torch.cuda.amp.autocast():\n",
    "            # adversarial loss for both generators\n",
    "            D_P_fake = disc_P(fake_photo)\n",
    "            D_V_fake = disc_V(fake_vangogh)\n",
    "            loss_G_P = mse(D_P_fake, torch.ones_like(D_P_fake))\n",
    "            loss_G_V = mse(D_V_fake, torch.ones_like(D_V_fake))\n",
    "\n",
    "            # cycle loss\n",
    "            cycle_vangogh = gen_V(fake_photo)\n",
    "            cycle_photo = gen_P(fake_vangogh)\n",
    "            cycle_vangogh_loss = l1(vangogh, cycle_vangogh)\n",
    "            cycle_photo_loss = l1(photo, cycle_photo)\n",
    "\n",
    "            # identity loss\n",
    "            identity_vangogh = gen_V(vangogh)\n",
    "            identity_photo = gen_P(photo)\n",
    "            identity_vangogh_loss = l1(vangogh, identity_vangogh)\n",
    "            identity_photo_loss = l1(photo, identity_photo)\n",
    "\n",
    "            # total generator loss\n",
    "            G_loss = (\n",
    "                loss_G_P\n",
    "                + loss_G_V\n",
    "                + cycle_vangogh_loss * config.LAMBDA_CYCLE\n",
    "                + cycle_photo_loss * config.LAMBDA_CYCLE\n",
    "                + identity_photo_loss * config.LAMBDA_IDENTITY\n",
    "                + identity_vangogh_loss * config.LAMBDA_IDENTITY\n",
    "            )\n",
    "\n",
    "        opt_gen.zero_grad()\n",
    "        g_scaler.scale(G_loss).backward()\n",
    "        g_scaler.step(opt_gen)\n",
    "        g_scaler.update()\n",
    "\n",
    "        if idx % 200 == 0:\n",
    "            save_image(fake_photo * 0.5 + 0.5, f\"saved_images/photo_{idx}.png\")\n",
    "            save_image(fake_vangogh * 0.5 + 0.5, f\"saved_images/van_gogh_{idx}.png\")\n",
    "\n",
    "        loop.set_postfix(P_real=P_reals / (idx + 1), P_fake=P_fakes / (idx + 1))\n"
   ]
  },
  {
   "cell_type": "code",
   "execution_count": 5,
   "id": "254e7a27-2323-4a0c-a557-b4bf5193b60a",
   "metadata": {
    "execution": {
     "iopub.execute_input": "2025-05-04T14:57:26.139596Z",
     "iopub.status.busy": "2025-05-04T14:57:26.139336Z",
     "iopub.status.idle": "2025-05-04T14:57:26.147662Z",
     "shell.execute_reply": "2025-05-04T14:57:26.147161Z",
     "shell.execute_reply.started": "2025-05-04T14:57:26.139574Z"
    }
   },
   "outputs": [],
   "source": [
    "def main():\n",
    "    disc_H = Discriminator(in_channels=3).to(config.DEVICE)\n",
    "    disc_Z = Discriminator(in_channels=3).to(config.DEVICE)\n",
    "    gen_Z = Generator(img_channels=3, num_residuals=9).to(config.DEVICE)\n",
    "    gen_H = Generator(img_channels=3, num_residuals=9).to(config.DEVICE)\n",
    "    opt_disc = optim.Adam(\n",
    "        list(disc_H.parameters()) + list(disc_Z.parameters()),\n",
    "        lr=config.LEARNING_RATE,\n",
    "        betas=(0.5, 0.999),\n",
    "    )\n",
    "\n",
    "    opt_gen = optim.Adam(\n",
    "        list(gen_Z.parameters()) + list(gen_H.parameters()),\n",
    "        lr=config.LEARNING_RATE,\n",
    "        betas=(0.5, 0.999),\n",
    "    )\n",
    "\n",
    "    L1 = nn.L1Loss()\n",
    "    mse = nn.MSELoss()\n",
    "\n",
    "    if config.LOAD_MODEL:\n",
    "        load_checkpoint(\n",
    "            config.CHECKPOINT_GEN_H,\n",
    "            gen_H,\n",
    "            opt_gen,\n",
    "            config.LEARNING_RATE,\n",
    "        )\n",
    "        load_checkpoint(\n",
    "            config.CHECKPOINT_GEN_Z,\n",
    "            gen_Z,\n",
    "            opt_gen,\n",
    "            config.LEARNING_RATE,\n",
    "        )\n",
    "        load_checkpoint(\n",
    "            config.CHECKPOINT_CRITIC_H,\n",
    "            disc_H,\n",
    "            opt_disc,\n",
    "            config.LEARNING_RATE,\n",
    "        )\n",
    "        load_checkpoint(\n",
    "            config.CHECKPOINT_CRITIC_Z,\n",
    "            disc_Z,\n",
    "            opt_disc,\n",
    "            config.LEARNING_RATE,\n",
    "        )\n",
    "\n",
    "    train_dataset = VangoghPhotoDataset(\n",
    "    hf_dataset=hf_data[\"train\"],\n",
    "    transform=config.transforms,\n",
    "    )\n",
    "    val_dataset = VangoghPhotoDataset(\n",
    "        hf_dataset=hf_data[\"test\"],\n",
    "        transform=config.transforms,\n",
    "    )\n",
    "    \n",
    "    train_loader = DataLoader(\n",
    "        train_dataset,\n",
    "        batch_size=config.BATCH_SIZE,\n",
    "        shuffle=True,\n",
    "        num_workers=config.NUM_WORKERS,\n",
    "        pin_memory=True,\n",
    "    )\n",
    "    \n",
    "    val_loader = DataLoader(\n",
    "        val_dataset,\n",
    "        batch_size=1,\n",
    "        shuffle=False,\n",
    "        pin_memory=True,\n",
    "    )\n",
    "    g_scaler = torch.cuda.amp.GradScaler()\n",
    "    d_scaler = torch.cuda.amp.GradScaler()\n",
    "\n",
    "    for epoch in range(config.NUM_EPOCHS):\n",
    "        train_fn(\n",
    "            disc_H,\n",
    "            disc_Z,\n",
    "            gen_Z,\n",
    "            gen_H,\n",
    "            train_loader,\n",
    "            opt_disc,\n",
    "            opt_gen,\n",
    "            L1,\n",
    "            mse,\n",
    "            d_scaler,\n",
    "            g_scaler,\n",
    "        )\n",
    "\n",
    "        if config.SAVE_MODEL:\n",
    "            save_checkpoint(gen_H, opt_gen, filename=config.CHECKPOINT_GEN_H)\n",
    "            save_checkpoint(gen_Z, opt_gen, filename=config.CHECKPOINT_GEN_Z)\n",
    "            save_checkpoint(disc_H, opt_disc, filename=config.CHECKPOINT_CRITIC_H)\n",
    "            save_checkpoint(disc_Z, opt_disc, filename=config.CHECKPOINT_CRITIC_Z)"
   ]
  },
  {
   "cell_type": "code",
   "execution_count": 6,
   "id": "e7f9b8fd-73df-4f5d-a939-da94b3ce6330",
   "metadata": {
    "execution": {
     "iopub.execute_input": "2025-05-04T14:57:26.148426Z",
     "iopub.status.busy": "2025-05-04T14:57:26.148228Z",
     "iopub.status.idle": "2025-05-04T14:57:26.155022Z",
     "shell.execute_reply": "2025-05-04T14:57:26.154489Z",
     "shell.execute_reply.started": "2025-05-04T14:57:26.148408Z"
    }
   },
   "outputs": [],
   "source": [
    "# if __name__ == \"__main__\":\n",
    "#     main()"
   ]
  },
  {
   "cell_type": "code",
   "execution_count": 7,
   "id": "4fdefd67-b623-4318-8635-63e696ba7945",
   "metadata": {
    "execution": {
     "iopub.execute_input": "2025-05-04T14:57:26.155920Z",
     "iopub.status.busy": "2025-05-04T14:57:26.155679Z",
     "iopub.status.idle": "2025-05-04T14:57:26.161894Z",
     "shell.execute_reply": "2025-05-04T14:57:26.161266Z",
     "shell.execute_reply.started": "2025-05-04T14:57:26.155899Z"
    }
   },
   "outputs": [],
   "source": [
    "# !pip install torchmetrics\n",
    "# !pip install pytorch-fid\n",
    "# !pip install torch-fidelity"
   ]
  },
  {
   "cell_type": "code",
   "execution_count": 11,
   "id": "f099c8e5-e77b-46c5-a431-e53aaed1f922",
   "metadata": {
    "execution": {
     "iopub.execute_input": "2025-05-04T15:01:34.620033Z",
     "iopub.status.busy": "2025-05-04T15:01:34.619545Z",
     "iopub.status.idle": "2025-05-04T15:01:34.629375Z",
     "shell.execute_reply": "2025-05-04T15:01:34.627837Z",
     "shell.execute_reply.started": "2025-05-04T15:01:34.619998Z"
    }
   },
   "outputs": [],
   "source": [
    "from torchmetrics.image.inception import InceptionScore\n",
    "from tqdm import tqdm\n",
    "\n",
    "\n",
    "def denorm_to_uint8(img_tensor: torch.Tensor) -> torch.Tensor:\n",
    "    \"\"\"\n",
    "    Преобразует изображение из [-1, 1] (или [0, 1]) в [0, 255] и uint8:\n",
    "    - ожидается, что входной тензор в формате BxCxHxW\n",
    "    \"\"\"\n",
    "    if img_tensor.is_floating_point():\n",
    "        img_tensor = img_tensor.float()\n",
    "        img_tensor = (img_tensor * 0.5 + 0.5) * 255.0  # [-1,1] -> [0,1] -> [0,255]\n",
    "    return img_tensor.clamp(0, 255).to(torch.uint8)\n",
    "\n",
    "@torch.no_grad()\n",
    "def evaluate_fn(gen_P, gen_V, val_loader):\n",
    "    gen_P.eval()\n",
    "    gen_V.eval()\n",
    "\n",
    "    inception = InceptionScore().to(config.DEVICE)\n",
    "\n",
    "    for vangogh, photo in tqdm(val_loader, desc=\"Evaluating\"):\n",
    "        vangogh = vangogh.to(config.DEVICE)\n",
    "        photo = photo.to(config.DEVICE)\n",
    "\n",
    "        fake_photo = gen_P(vangogh)\n",
    "\n",
    "        # Денормализация и преобразование в uint8\n",
    "        fake_photo_uint8 = denorm_to_uint8(fake_photo)\n",
    "        photo_uint8 = denorm_to_uint8(photo)\n",
    "\n",
    "        inception.update(fake_photo_uint8)\n",
    "\n",
    "    inception_mean, inception_std = inception.compute()\n",
    "\n",
    "    print(f\"Inception Score: {inception_mean:.4f} ± {inception_std:.4f}\")\n",
    "\n",
    "    gen_P.train()\n",
    "    gen_V.train()\n"
   ]
  },
  {
   "cell_type": "code",
   "execution_count": 12,
   "id": "3e4420a5-6a83-4e5a-aa1d-3e4a34042bc3",
   "metadata": {
    "execution": {
     "iopub.execute_input": "2025-05-04T15:01:35.926196Z",
     "iopub.status.busy": "2025-05-04T15:01:35.925752Z",
     "iopub.status.idle": "2025-05-04T15:01:35.943326Z",
     "shell.execute_reply": "2025-05-04T15:01:35.942922Z",
     "shell.execute_reply.started": "2025-05-04T15:01:35.926161Z"
    }
   },
   "outputs": [],
   "source": [
    "torch.cuda.empty_cache()"
   ]
  },
  {
   "cell_type": "code",
   "execution_count": 13,
   "id": "176464a6-a08c-4b31-af3c-0a9e2e985f33",
   "metadata": {
    "execution": {
     "iopub.execute_input": "2025-05-04T15:01:36.396447Z",
     "iopub.status.busy": "2025-05-04T15:01:36.396038Z",
     "iopub.status.idle": "2025-05-04T15:01:43.694137Z",
     "shell.execute_reply": "2025-05-04T15:01:43.693845Z",
     "shell.execute_reply.started": "2025-05-04T15:01:36.396413Z"
    }
   },
   "outputs": [
    {
     "name": "stdout",
     "output_type": "stream",
     "text": [
      "=> Loading checkpoint gen_H\n",
      "=> Loading checkpoint gen_Z\n"
     ]
    },
    {
     "name": "stderr",
     "output_type": "stream",
     "text": [
      "Evaluating: 100%|██████████| 751/751 [00:06<00:00, 108.53it/s]"
     ]
    },
    {
     "name": "stdout",
     "output_type": "stream",
     "text": [
      "Inception Score: 5.7665 ± 0.6452\n"
     ]
    },
    {
     "name": "stderr",
     "output_type": "stream",
     "text": [
      "\n"
     ]
    }
   ],
   "source": [
    "gen_Z = Generator(img_channels=3, num_residuals=9).to(config.DEVICE)\n",
    "gen_H = Generator(img_channels=3, num_residuals=9).to(config.DEVICE)\n",
    "\n",
    "gen_H_path = '/home/emilmeister/SashaProjects/ganchik/genh.pth.tar'\n",
    "gen_Z_path = '/home/emilmeister/SashaProjects/ganchik/genz.pth.tar'\n",
    "\n",
    "print(\"=> Loading checkpoint gen_H\")\n",
    "checkpoint_gen_H = torch.load(gen_H_path, map_location=config.DEVICE)\n",
    "gen_H.load_state_dict(checkpoint_gen_H[\"state_dict\"])\n",
    "\n",
    "print(\"=> Loading checkpoint gen_Z\")\n",
    "checkpoint_gen_Z = torch.load(gen_Z_path, map_location=config.DEVICE)\n",
    "gen_Z.load_state_dict(checkpoint_gen_Z[\"state_dict\"])\n",
    "\n",
    "\n",
    "val_dataset = VangoghPhotoDataset(\n",
    "        hf_dataset=hf_data[\"test\"],\n",
    "        transform=config.transforms,\n",
    "    )\n",
    "\n",
    "val_loader = DataLoader(\n",
    "        val_dataset,\n",
    "        batch_size=1,\n",
    "        shuffle=False,\n",
    "        pin_memory=True,\n",
    "    )\n",
    "\n",
    "evaluate_fn(gen_H, gen_Z, val_loader)"
   ]
  },
  {
   "cell_type": "markdown",
   "id": "2dc9b412-d16f-4ac2-8d47-8abc2789fe85",
   "metadata": {},
   "source": [
    "# IC расположился в районе 5-6 что говорит о довольно хорошем качестве получившейся модели.\n",
    "\n",
    "# При визуальной оценке получившихся изображений, на мой взгляд, тоже получилось довольно неплохо. Да, есть местами картинки которые прям фигня, но подавляющее большинство можно подумать что реально рисовал Ван Гог))\n",
    "\n",
    "# В целом работа получилась довольно интересная, я понял как работает CycleGAN, а также познакомился с метриками IC & FID. Раньше с изображениями не работал, как первый опыт считаю очень круто, нормально погрузился в работу сверток.\n",
    "\n",
    "# P.S. Сначала пробовал обучать без identity loss - получалось все довольно плохо, потом решил все таки его добавить и качество поднялось до приемлемого уровня. Моделька училась 15 часов на 150 эпохах. Уже где то с первой эпохи модель начинает генерировать что то нормальное, но вот прям удовлетворяющего уровня удалось добиться при раздувании эпох до 150."
   ]
  },
  {
   "cell_type": "code",
   "execution_count": null,
   "id": "fa1e01ba-aefc-4a7b-8a18-570b93de0b66",
   "metadata": {},
   "outputs": [],
   "source": []
  }
 ],
 "metadata": {
  "kernelspec": {
   "display_name": "Python 3 (ipykernel)",
   "language": "python",
   "name": "python3"
  },
  "language_info": {
   "codemirror_mode": {
    "name": "ipython",
    "version": 3
   },
   "file_extension": ".py",
   "mimetype": "text/x-python",
   "name": "python",
   "nbconvert_exporter": "python",
   "pygments_lexer": "ipython3",
   "version": "3.12.3"
  }
 },
 "nbformat": 4,
 "nbformat_minor": 5
}
